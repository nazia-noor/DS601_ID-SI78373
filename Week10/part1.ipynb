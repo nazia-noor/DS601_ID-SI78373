{
 "cells": [
  {
   "cell_type": "code",
   "execution_count": 1,
   "metadata": {},
   "outputs": [],
   "source": [
    "# !pip install python-docx"
   ]
  },
  {
   "cell_type": "code",
   "execution_count": 2,
   "metadata": {},
   "outputs": [],
   "source": [
    "import nltk\n",
    "from nltk.corpus import stopwords \n",
    "from nltk.tokenize import word_tokenize\n",
    "import string\n",
    "import os\n",
    "import zipfile\n",
    "import re\n",
    "from docx import Document\n"
   ]
  },
  {
   "cell_type": "code",
   "execution_count": 3,
   "metadata": {},
   "outputs": [],
   "source": [
    "stop_words = set(stopwords.words('english')) "
   ]
  },
  {
   "cell_type": "code",
   "execution_count": 4,
   "metadata": {},
   "outputs": [],
   "source": [
    "zip_filename = 'text_files.zip'\n",
    "extract_path ='text_files'\n",
    "file_types=['.txt', '.docx']"
   ]
  },
  {
   "cell_type": "code",
   "execution_count": 5,
   "metadata": {},
   "outputs": [],
   "source": [
    "with zipfile.ZipFile(zip_filename, \"r\") as zip_ref:\n",
    "    zip_ref.extractall()    "
   ]
  },
  {
   "cell_type": "code",
   "execution_count": 6,
   "metadata": {},
   "outputs": [],
   "source": [
    "paths = []\n",
    "for root, dirs, files in os.walk(extract_path):\n",
    "    for file in files:\n",
    "        if any([file.endswith(ft) for ft in file_types]):\n",
    "            path = (os.path.join(root, file), file)\n",
    "            paths.append(path)\n"
   ]
  },
  {
   "cell_type": "code",
   "execution_count": 7,
   "metadata": {},
   "outputs": [],
   "source": [
    "def process_file(file_name):\n",
    "    \"\"\"\"\"\"\n",
    "    unique_words = []\n",
    "    fname, file_extension = os.path.splitext(file_name)\n",
    "    if file_extension== '.txt':\n",
    "        f = open(file_name, 'r', encoding=\"utf8\")\n",
    "        lines = f.read().strip()\n",
    "    else:\n",
    "        document = Document(file_name)\n",
    "        lines = ' '.join([p.text for p in document.paragraphs]).strip()\n",
    "    # remove urls\n",
    "    url=r'(?i)\\b((?:[a-z][\\w-]+:(?:/{1,3}|[a-z0-9%])|www\\d{0,3}[.]|[a-z0-9.\\-]+[.][a-z]{2,4}/)(?:[^\\s()<>]+|\\(([^\\s()<>]+|(\\([^\\s()<>]+\\)))*\\))+(?:\\(([^\\s()<>]+|(\\([^\\s()<>]+\\)))*\\)|[^\\s`!()\\[\\]{};:\\'\".,<>?«»“”‘’]))'\n",
    "    lines = re.sub(url, '', lines, flags=re.MULTILINE)\n",
    "    # remove phone numbers\n",
    "    phone = '(\\d{3}[-\\.\\s]??\\d{3}[-\\.\\s]??\\d{4}|\\(\\d{3}\\)\\s*\\d{3}[-\\.\\s]??\\d{4}|\\d{3}[-\\.\\s]??\\d{4})'\n",
    "    lines = re.sub(phone, '', lines, flags=re.MULTILINE)\n",
    "    # remove punctuation\n",
    "    lines = lines.encode(\"ascii\", \"ignore\")\n",
    "    lines = lines.decode()\n",
    "    lines = lines.translate(str.maketrans('','',string.punctuation)).strip()\n",
    "    # remove stop words\n",
    "    pattern = re.compile(r'\\b(' + r'|'.join(stop_words) + r')\\b\\s*')\n",
    "    lines = pattern.sub('', lines.lower())\n",
    "    # unique_words = sorted(list(set(lines.split())))\n",
    "    unique_words = sorted(list(set(word_tokenize(lines))))\n",
    "    # remove single character which might considered as stop words \n",
    "    unique_words = [s for s in unique_words if len(s)>1]\n",
    "    return unique_words"
   ]
  },
  {
   "cell_type": "code",
   "execution_count": 8,
   "metadata": {},
   "outputs": [
    {
     "name": "stdout",
     "output_type": "stream",
     "text": [
      "Processing:  52256-0.txt\n",
      "Processing:  53031-0.txt\n",
      "Processing:  58108-0.txt\n",
      "Processing:  blind_text.txt\n",
      "Processing:  dr_yawn.txt\n",
      "Processing:  how_rubber_goods_are_made.txt\n",
      "Processing:  most_boring_ever.txt\n",
      "Processing:  most_boring_part2.txt\n",
      "Processing:  pg12814.txt\n",
      "Processing:  pg14895.txt\n",
      "Processing:  pg43994.txt\n",
      "Processing:  random_text.txt\n",
      "Processing:  smiley_the_bunny.txt\n",
      "Processing:  week_10_document1.docx\n",
      "Processing:  week_10_document2.docx\n",
      "Saving File\n",
      "Process Finished\n"
     ]
    }
   ],
   "source": [
    "obj = {}\n",
    "\n",
    "for path, file in paths:\n",
    "    print ('Processing: ', file)\n",
    "    obj[file] = process_file(path)\n",
    "    \n",
    "    \n",
    "print('Saving File')\n",
    "with open('output_part1.dat', \"w\") as f:\n",
    "    for key in obj.keys():\n",
    "        line = '\"'+key +'\"'+ ':' + ','.join(obj[key]) + '\\n'\n",
    "        f.write(line)\n",
    "f.close()\n",
    "print('Process Finished')"
   ]
  },
  {
   "cell_type": "code",
   "execution_count": null,
   "metadata": {},
   "outputs": [],
   "source": []
  }
 ],
 "metadata": {
  "kernelspec": {
   "display_name": "Python 3",
   "language": "python",
   "name": "python3"
  },
  "language_info": {
   "codemirror_mode": {
    "name": "ipython",
    "version": 3
   },
   "file_extension": ".py",
   "mimetype": "text/x-python",
   "name": "python",
   "nbconvert_exporter": "python",
   "pygments_lexer": "ipython3",
   "version": "3.8.5"
  }
 },
 "nbformat": 4,
 "nbformat_minor": 4
}
