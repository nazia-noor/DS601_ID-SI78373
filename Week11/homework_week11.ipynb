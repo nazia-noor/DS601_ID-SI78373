{
 "cells": [
  {
   "cell_type": "code",
   "execution_count": 1,
   "metadata": {},
   "outputs": [],
   "source": [
    "import json\n",
    "import re\n",
    "import os"
   ]
  },
  {
   "cell_type": "code",
   "execution_count": 2,
   "metadata": {},
   "outputs": [],
   "source": [
    "path_dir=\"../../github/\""
   ]
  },
  {
   "cell_type": "code",
   "execution_count": 3,
   "metadata": {},
   "outputs": [],
   "source": [
    "# patterns\n",
    "p1 = '^import\\s+([a-zA-Z0-9\\.-_]+\\s*,?\\s*)*\\n?'\n",
    "p2 = '^from\\s+[a-zA-Z0-9\\.-_]+\\s*import\\s+([a-zA-Z0-9\\.-_]+\\s*,?\\s*)*\\n?'"
   ]
  },
  {
   "cell_type": "code",
   "execution_count": 4,
   "metadata": {},
   "outputs": [],
   "source": [
    "def get_module(elements):\n",
    "    imp = []\n",
    "    for element in elements:\n",
    "        match = re.search(p1+\"|\"+p2, element)\n",
    "        if match:\n",
    "            if 'from ' in match.group(0):\n",
    "                ressults = match.group(0).split(\"import\")\n",
    "                imp += [ressults[0].replace('from','').strip()]\n",
    "            else:\n",
    "                res = match.group(0).split(\"import\")[-1].strip().split(\",\")\n",
    "                #imp += [r.strip() for r in res]\n",
    "                imp += [r.split(\" as \")[0].strip() for r in res]\n",
    "            \n",
    "    return list(filter(None, imp))"
   ]
  },
  {
   "cell_type": "code",
   "execution_count": 5,
   "metadata": {},
   "outputs": [],
   "source": [
    "def process_file(fname):\n",
    "    jfile = open(fname, 'r', encoding=\"utf8\")\n",
    "    data = json.loads(jfile.read())\n",
    "    # all source variables \n",
    "    sources = [d['source'] for d in data['cells']]\n",
    "    module_list = []\n",
    "    for s in sources:\n",
    "        module_list += get_module(s)\n",
    "    module_list = list(set(module_list))\n",
    "    return module_list"
   ]
  },
  {
   "cell_type": "code",
   "execution_count": 6,
   "metadata": {},
   "outputs": [],
   "source": [
    "paths = []\n",
    "for root, dirs, files in os.walk(path_dir):\n",
    "    for file in files:\n",
    "        if file.endswith('.ipynb'):\n",
    "            path = (os.path.join(root, file), file)\n",
    "            paths.append(path)"
   ]
  },
  {
   "cell_type": "code",
   "execution_count": 7,
   "metadata": {},
   "outputs": [
    {
     "name": "stdout",
     "output_type": "stream",
     "text": [
      "Processing:  ../../github/DS601_ID-SI78373\\Midterm-Project\\Midterm-Project.ipynb\n",
      "Processing:  ../../github/DS601_ID-SI78373\\Week10\\part1.ipynb\n",
      "Processing:  ../../github/DS601_ID-SI78373\\Week10\\part2.ipynb\n",
      "Processing:  ../../github/DS601_ID-SI78373\\Week2\\Homework-Week2.ipynb\n",
      "Processing:  ../../github/DS601_ID-SI78373\\Week2\\hw2_2.ipynb\n",
      "Processing:  ../../github/DS601_ID-SI78373\\Week3\\Homework-Week3.ipynb\n",
      "Processing:  ../../github/DS601_ID-SI78373\\Week4\\BrowserHistory_Analysis_HW.ipynb\n",
      "Processing:  ../../github/DS601_ID-SI78373\\Week4\\Week4_Homework2.ipynb\n",
      "Processing:  ../../github/DS601_ID-SI78373\\Week5\\BrowserHistory_Analysis_HW.ipynb\n",
      "Processing:  ../../github/DS601_ID-SI78373\\Week6\\HomeworkWeek6.ipynb\n",
      "Processing:  ../../github/DS601_ID-SI78373\\Week7\\Assignment1.ipynb\n",
      "Processing:  ../../github/DS601_ID-SI78373\\Week7\\Assignment2.ipynb\n",
      "Processing:  ../../github/DS601_ID-SI78373\\Week9\\homeworkw9-Part2.ipynb\n",
      "Processing:  ../../github/DS601_ID-SI78373\\Week9\\HomeworkWeek9-Part1.ipynb\n"
     ]
    }
   ],
   "source": [
    "obj = {}\n",
    "for path, file in paths:\n",
    "    print ('Processing: ',path)\n",
    "    obj[file] = process_file(path)\n"
   ]
  },
  {
   "cell_type": "code",
   "execution_count": 8,
   "metadata": {
    "scrolled": false
   },
   "outputs": [
    {
     "name": "stdout",
     "output_type": "stream",
     "text": [
      "\u001b[1;31mUnique modules in each notebook:\u001b[0m\n",
      "Midterm-Project.ipynb:['matplotlib', 'pandas', 'matplotlib.pyplot']\n",
      "part1.ipynb:['os', 'string', 'nltk.corpus', 're', 'docx', 'nltk.tokenize', 'zipfile', 'nltk']\n",
      "part2.ipynb:['os', 'string', 'nltk.corpus', 're', 'file_processor', 'docx', 'nltk.tokenize', 'zipfile', 'nltk']\n",
      "Homework-Week2.ipynb:['random', 're', 'datetime']\n",
      "hw2_2.ipynb:['pandas']\n",
      "Homework-Week3.ipynb:['faker', 'random', 'pandas', 'datetime']\n",
      "BrowserHistory_Analysis_HW.ipynb:['matplotlib', 'pandas', 'matplotlib.pyplot']\n",
      "Week4_Homework2.ipynb:['faker', 'random', 'pandas']\n",
      "HomeworkWeek6.ipynb:[]\n",
      "Assignment1.ipynb:['matplotlib', 'matplotlib.pyplot', 'datetime', 'numpy', 'pandas']\n",
      "Assignment2.ipynb:['random', 'numpy', 'pandas', 'matplotlib.pyplot']\n",
      "homeworkw9-Part2.ipynb:['random', 'matplotlib', 'matplotlib.pyplot', 'numpy', 'pandas']\n",
      "HomeworkWeek9-Part1.ipynb:['doctest', 'datetime']\n",
      "\n",
      "\n",
      "\u001b[1;31mTotal unique modules in all notebooks:\u001b[0m ['os', 'random', 'matplotlib', 'string', 'nltk.corpus', 're', 'matplotlib.pyplot', 'docx', 'nltk.tokenize', 'file_processor', 'datetime', 'numpy', 'pandas', 'zipfile', 'faker', 'doctest', 'nltk']\n"
     ]
    }
   ],
   "source": [
    "total_imp = []\n",
    "print('\\x1b[1;31m'+\"Unique modules in each notebook:\"+'\\x1b[0m')\n",
    "for o in obj:\n",
    "    print(o+\":\"+str(obj[o]))\n",
    "    total_imp += obj[o]\n",
    "\n",
    "print('\\n\\n\\x1b[1;31m'+'Total unique modules in all notebooks:'+'\\x1b[0m', list(set(total_imp)))"
   ]
  }
 ],
 "metadata": {
  "kernelspec": {
   "display_name": "Python 3",
   "language": "python",
   "name": "python3"
  },
  "language_info": {
   "codemirror_mode": {
    "name": "ipython",
    "version": 3
   },
   "file_extension": ".py",
   "mimetype": "text/x-python",
   "name": "python",
   "nbconvert_exporter": "python",
   "pygments_lexer": "ipython3",
   "version": "3.8.5"
  }
 },
 "nbformat": 4,
 "nbformat_minor": 4
}
