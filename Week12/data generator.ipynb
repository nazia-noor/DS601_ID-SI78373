{
 "cells": [
  {
   "cell_type": "code",
   "execution_count": 1,
   "metadata": {},
   "outputs": [],
   "source": [
    "from faker import Faker\n",
    "import random\n",
    "import numpy as np\n",
    "import pandas as pd\n",
    "from datetime import datetime"
   ]
  },
  {
   "cell_type": "code",
   "execution_count": 2,
   "metadata": {},
   "outputs": [],
   "source": [
    "def create_fake_data(filename='data.csv', rows=100):\n",
    "    f = Faker()\n",
    "    \n",
    "    today = datetime.today()\n",
    "    year = today.year\n",
    "    \n",
    "    def get_birth_year():\n",
    "        age = int(np.random.normal(1970, 30, 1)[0])\n",
    "        if age > 2005:\n",
    "            return 2005\n",
    "        elif age < 110:\n",
    "            return 100\n",
    "        \n",
    "        return age\n",
    "    \n",
    "    def get_text(length=300):\n",
    "        return length * 'adfafdad;lfkajdk;lfjadlfkjad;lfafadsfljadsklfjelfjdf;oeureoifjaa;ldfja;dlfjefjadlfjadl;fjeiofjadlja;lfjeofieuoifjadlfjad;lfjad;lfjad;lfje;fjadl;fkjeuroiewuflsdjfa;dlsjvdfsdfjadlsfjewioufalidjfaldfkj3riusfuasdjfa;djfasdlfjkldsjfa;ldsfj;adslfjkdas;fjlas,vjddsajfskjdflkajfkladjfalk;fjeoiuroadjvdzvnklvjdlfjadslfjioer8urfjadfajd;fjadfa';\n",
    "        \n",
    "    \n",
    "    with open(filename, 'w') as file:\n",
    "        for i in range(1, rows+1):\n",
    "            name = f.first_name()\n",
    "            lastname = f.last_name()\n",
    "            birthyear = get_birth_year()\n",
    "            age = year - birthyear\n",
    "#             credit_card = f.credit_card()\n",
    "            job = f.job().replace(',', '-')\n",
    "            ssn = f.ssn()\n",
    "            some_data = get_text()\n",
    "\n",
    "            row = f'{name},{lastname},{birthyear},{age},{job},{ssn},{some_data}\\n'\n",
    "            file.write(row)\n",
    "            \n",
    "            if i % 10000 == 0 or i == rows:\n",
    "                print(i, '/', rows)\n",
    "                "
   ]
  },
  {
   "cell_type": "code",
   "execution_count": 3,
   "metadata": {},
   "outputs": [
    {
     "name": "stdout",
     "output_type": "stream",
     "text": [
      "10 / 10\n"
     ]
    }
   ],
   "source": [
    "create_fake_data(rows=10)\n",
    "# create_fake_data(rows=1000000)"
   ]
  },
  {
   "cell_type": "code",
   "execution_count": null,
   "metadata": {},
   "outputs": [],
   "source": [
    "# !ls"
   ]
  },
  {
   "cell_type": "code",
   "execution_count": 8,
   "metadata": {},
   "outputs": [],
   "source": [
    "!head -n 5 data.csv"
   ]
  },
  {
   "cell_type": "code",
   "execution_count": 5,
   "metadata": {
    "scrolled": true
   },
   "outputs": [],
   "source": [
    "df = pd.read_csv('data.csv', header=None)"
   ]
  },
  {
   "cell_type": "code",
   "execution_count": 7,
   "metadata": {},
   "outputs": [
    {
     "data": {
      "text/plain": [
       "(10, 307)"
      ]
     },
     "execution_count": 7,
     "metadata": {},
     "output_type": "execute_result"
    }
   ],
   "source": [
    "df.shape"
   ]
  },
  {
   "cell_type": "code",
   "execution_count": 9,
   "metadata": {
    "scrolled": false
   },
   "outputs": [
    {
     "name": "stdout",
     "output_type": "stream",
     "text": [
      "10000 / 1000000\n",
      "20000 / 1000000\n",
      "30000 / 1000000\n",
      "40000 / 1000000\n",
      "50000 / 1000000\n",
      "60000 / 1000000\n",
      "70000 / 1000000\n",
      "80000 / 1000000\n",
      "90000 / 1000000\n",
      "100000 / 1000000\n",
      "110000 / 1000000\n",
      "120000 / 1000000\n",
      "130000 / 1000000\n",
      "140000 / 1000000\n",
      "150000 / 1000000\n",
      "160000 / 1000000\n",
      "170000 / 1000000\n",
      "180000 / 1000000\n",
      "190000 / 1000000\n",
      "200000 / 1000000\n",
      "210000 / 1000000\n",
      "220000 / 1000000\n",
      "230000 / 1000000\n",
      "240000 / 1000000\n",
      "250000 / 1000000\n",
      "260000 / 1000000\n",
      "270000 / 1000000\n",
      "280000 / 1000000\n",
      "290000 / 1000000\n",
      "300000 / 1000000\n",
      "310000 / 1000000\n",
      "320000 / 1000000\n",
      "330000 / 1000000\n",
      "340000 / 1000000\n",
      "350000 / 1000000\n",
      "360000 / 1000000\n",
      "370000 / 1000000\n",
      "380000 / 1000000\n",
      "390000 / 1000000\n",
      "400000 / 1000000\n",
      "410000 / 1000000\n",
      "420000 / 1000000\n",
      "430000 / 1000000\n",
      "440000 / 1000000\n",
      "450000 / 1000000\n",
      "460000 / 1000000\n",
      "470000 / 1000000\n",
      "480000 / 1000000\n",
      "490000 / 1000000\n",
      "500000 / 1000000\n",
      "510000 / 1000000\n",
      "520000 / 1000000\n",
      "530000 / 1000000\n",
      "540000 / 1000000\n",
      "550000 / 1000000\n",
      "560000 / 1000000\n",
      "570000 / 1000000\n",
      "580000 / 1000000\n",
      "590000 / 1000000\n",
      "600000 / 1000000\n",
      "610000 / 1000000\n",
      "620000 / 1000000\n",
      "630000 / 1000000\n",
      "640000 / 1000000\n",
      "650000 / 1000000\n",
      "660000 / 1000000\n",
      "670000 / 1000000\n",
      "680000 / 1000000\n",
      "690000 / 1000000\n",
      "700000 / 1000000\n",
      "710000 / 1000000\n",
      "720000 / 1000000\n",
      "730000 / 1000000\n",
      "740000 / 1000000\n",
      "750000 / 1000000\n",
      "760000 / 1000000\n",
      "770000 / 1000000\n",
      "780000 / 1000000\n",
      "790000 / 1000000\n",
      "800000 / 1000000\n",
      "810000 / 1000000\n",
      "820000 / 1000000\n",
      "830000 / 1000000\n",
      "840000 / 1000000\n",
      "850000 / 1000000\n",
      "860000 / 1000000\n",
      "870000 / 1000000\n",
      "880000 / 1000000\n",
      "890000 / 1000000\n",
      "900000 / 1000000\n",
      "910000 / 1000000\n",
      "920000 / 1000000\n",
      "930000 / 1000000\n",
      "940000 / 1000000\n",
      "950000 / 1000000\n",
      "960000 / 1000000\n",
      "970000 / 1000000\n",
      "980000 / 1000000\n",
      "990000 / 1000000\n",
      "1000000 / 1000000\n"
     ]
    }
   ],
   "source": [
    "create_fake_data(filename='data_big.csv', rows=1000000)"
   ]
  },
  {
   "cell_type": "code",
   "execution_count": null,
   "metadata": {},
   "outputs": [],
   "source": [
    "# with open('data_big.csv') as file:\n",
    "#     c = 0\n",
    "#     while True:\n",
    "#         c += 1\n",
    "#         line = file.readline()\n",
    "        \n",
    "#         if not line:\n",
    "#             break\n",
    "            \n",
    "#         if c % 100 == 0:\n",
    "#             print('processed', c)"
   ]
  },
  {
   "cell_type": "code",
   "execution_count": null,
   "metadata": {},
   "outputs": [],
   "source": []
  }
 ],
 "metadata": {
  "kernelspec": {
   "display_name": "Python 3",
   "language": "python",
   "name": "python3"
  },
  "language_info": {
   "codemirror_mode": {
    "name": "ipython",
    "version": 3
   },
   "file_extension": ".py",
   "mimetype": "text/x-python",
   "name": "python",
   "nbconvert_exporter": "python",
   "pygments_lexer": "ipython3",
   "version": "3.7.6"
  },
  "varInspector": {
   "cols": {
    "lenName": 16,
    "lenType": 16,
    "lenVar": 40
   },
   "kernels_config": {
    "python": {
     "delete_cmd_postfix": "",
     "delete_cmd_prefix": "del ",
     "library": "var_list.py",
     "varRefreshCmd": "print(var_dic_list())"
    },
    "r": {
     "delete_cmd_postfix": ") ",
     "delete_cmd_prefix": "rm(",
     "library": "var_list.r",
     "varRefreshCmd": "cat(var_dic_list()) "
    }
   },
   "types_to_exclude": [
    "module",
    "function",
    "builtin_function_or_method",
    "instance",
    "_Feature"
   ],
   "window_display": false
  }
 },
 "nbformat": 4,
 "nbformat_minor": 2
}
