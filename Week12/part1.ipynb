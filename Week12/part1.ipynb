{
 "cells": [
  {
   "cell_type": "code",
   "execution_count": 1,
   "metadata": {},
   "outputs": [],
   "source": [
    "import pandas as pd\n",
    "import csv\n",
    "from datetime import datetime\n",
    "import time\n",
    "import os\n",
    "import numpy as np\n",
    "import string\n",
    "import random"
   ]
  },
  {
   "cell_type": "code",
   "execution_count": 2,
   "metadata": {},
   "outputs": [],
   "source": [
    "def generate_entry():\n",
    "    \"\"\"\"\"\"\n",
    "    n = random.randint(3, 25)\n",
    "    m = random.randint(1,n-1)\n",
    "    # ensuring that each entry is mix of numeric and non-numeric\n",
    "    entry= [random.choice(string.ascii_letters) for i in range(m)]+[random.choice(string.digits) for i in range(n-m)]\n",
    "    return ''.join(entry)"
   ]
  },
  {
   "cell_type": "code",
   "execution_count": 3,
   "metadata": {},
   "outputs": [],
   "source": [
    "def create_csv(csv_file_name, size, mst, cols=10):\n",
    "    fields = ['Col'+str(i+1) for i in range(cols)]\n",
    "    with open(csv_file_name, 'w') as csvfile:\n",
    "        write = csv.writer(csvfile)\n",
    "        wt = 0 # write time\n",
    "        ct = 0 # creation time\n",
    "        lt = 0 # load time: time taken to load data after creating fake data\n",
    "        tw1 = time.time()\n",
    "        write.writerow(fields)\n",
    "        tw2 = time.time()\n",
    "        wt += (tw2-tw1)\n",
    "        pre_row = None\n",
    "        while (os.path.getsize(csv_file_name)) < size:\n",
    "            tc1 = time.time()\n",
    "            row = [generate_entry() for x in range(cols)]\n",
    "            tc2 = time.time()\n",
    "            ct += (tc2-tc1)\n",
    "            \n",
    "            tl1 = time.time()\n",
    "            if pre_row is None:\n",
    "                tw1 = time.time()\n",
    "                write.writerows([row])\n",
    "                tw2 = time.time()\n",
    "                pre_row = row\n",
    "            else:\n",
    "                if pre_row != row:\n",
    "                    tw1 = time.time()\n",
    "                    write.writerows([row])\n",
    "                    tw2 = time.time()\n",
    "                    pre_row = row\n",
    "            tl2 = time.time()\n",
    "            wt += (tw2-tw1)\n",
    "            lt += (tl2 - tl1)\n",
    "    print(\"Execution time for creating \"+csv_file_name.split(\"/\")[-1]+\":%f seconds\"%(ct))\n",
    "    return {\"file_size\":size, \"write_time\":wt, \"measurement\":mst, \"creation_time\":ct, \"load_time\":lt-wt}"
   ]
  },
  {
   "cell_type": "code",
   "execution_count": 4,
   "metadata": {},
   "outputs": [
    {
     "name": "stdout",
     "output_type": "stream",
     "text": [
      "Execution time for creating 1619342002268544_m1_0.1MB.csv:0.098666 seconds\n",
      "Execution time for creating 16193420023754802_m2_0.1MB.csv:0.090327 seconds\n",
      "Execution time for creating 1619342002473378_m3_0.1MB.csv:0.089946 seconds\n",
      "Execution time for creating 1619342002569588_m1_1.0MB.csv:0.885000 seconds\n",
      "Execution time for creating 16193420035145931_m2_1.0MB.csv:0.887582 seconds\n",
      "Execution time for creating 1619342004461786_m3_1.0MB.csv:0.893382 seconds\n",
      "Execution time for creating 1619342005417301_m1_5.0MB.csv:4.410805 seconds\n",
      "Execution time for creating 16193420101190841_m2_5.0MB.csv:4.309189 seconds\n",
      "Execution time for creating 1619342014755585_m3_5.0MB.csv:4.327065 seconds\n",
      "Execution time for creating 1619342019355065_m1_10.0MB.csv:8.708216 seconds\n",
      "Execution time for creating 16193420286436522_m2_10.0MB.csv:8.556598 seconds\n",
      "Execution time for creating 1619342037721733_m3_10.0MB.csv:8.686116 seconds\n",
      "Execution time for creating 1619342047144616_m1_100.0MB.csv:84.935403 seconds\n",
      "Execution time for creating 1619342137398161_m2_100.0MB.csv:85.170025 seconds\n",
      "Execution time for creating 1619342227837805_m3_100.0MB.csv:85.242666 seconds\n",
      "Execution time for creating 16193423184689631_m1_500.0MB.csv:423.931469 seconds\n",
      "Execution time for creating 16193427685589151_m2_500.0MB.csv:424.536918 seconds\n",
      "Execution time for creating 1619343219264368_m3_500.0MB.csv:425.833403 seconds\n"
     ]
    }
   ],
   "source": [
    "s = 1024*1024\n",
    "file_size = [0.1*s, 1*s, 5*s, 10*s, 100*s, 500*s]\n",
    "# file_size = [0.1*s, 1*s, 5*s]\n",
    "results_w = {}\n",
    "for size in file_size:\n",
    "    for mst in range(3):\n",
    "        fname = \"data/{name}_m{mst}_{size}MB.csv\".format(name=str(time.time()).replace(\".\",\"\"), mst=mst+1, size=size/s)\n",
    "        results_w[fname.split(\"/\")[-1]] = create_csv(fname, size, mst+1)"
   ]
  },
  {
   "cell_type": "code",
   "execution_count": 5,
   "metadata": {},
   "outputs": [],
   "source": [
    "results_r = {}\n",
    "# load data into pandas dataframe\n",
    "for fname in results_w:\n",
    "    tr1 = time.time()\n",
    "    df = pd.read_csv(\"data/\"+fname)\n",
    "    tr2 = time.time()\n",
    "    rt = tr2 - tr1\n",
    "    results_r[fname] = {\"read_time\":rt}"
   ]
  },
  {
   "cell_type": "markdown",
   "metadata": {},
   "source": [
    "Results: table of values (file size versus read time and write time for each experiment) "
   ]
  },
  {
   "cell_type": "code",
   "execution_count": 6,
   "metadata": {},
   "outputs": [],
   "source": [
    "file_size = []\n",
    "read_time = []\n",
    "write_time = []\n",
    "load_time = []\n",
    "for fname in results_w:\n",
    "    file_size.append(results_w[fname][\"file_size\"]/s)\n",
    "    write_time.append(results_w[fname][\"write_time\"])\n",
    "    load_time.append(results_w[fname][\"load_time\"])\n",
    "    read_time.append(results_r[fname][\"read_time\"])\n",
    "df = pd.DataFrame({\"file_size\":file_size,\"read_time\":read_time,\"write_time\":write_time, \"load_time\":load_time})\n",
    "                  "
   ]
  },
  {
   "cell_type": "code",
   "execution_count": 7,
   "metadata": {},
   "outputs": [
    {
     "name": "stdout",
     "output_type": "stream",
     "text": [
      " file_size  read_time  write_time\n",
      "       0.1   0.032151    0.003439\n",
      "       0.1   0.006647    0.003047\n",
      "       0.1   0.005986    0.002982\n",
      "       1.0   0.032130    0.029599\n",
      "       1.0   0.032601    0.030006\n",
      "       1.0   0.033484    0.031076\n",
      "       5.0   0.152688    0.143865\n",
      "       5.0   0.173028    0.194930\n",
      "       5.0   0.153687    0.137892\n",
      "      10.0   0.337986    0.310252\n",
      "      10.0   0.344522    0.266296\n",
      "      10.0   0.349802    0.468746\n",
      "     100.0   3.175637    2.755244\n",
      "     100.0   3.272399    2.740806\n",
      "     100.0   3.197883    2.827125\n",
      "     500.0  19.411626   13.462223\n",
      "     500.0  28.892956   13.555547\n",
      "     500.0  28.475812   14.146447\n"
     ]
    }
   ],
   "source": [
    "print(df[[\"file_size\",\"read_time\",\"write_time\"]].to_string(index=False))"
   ]
  },
  {
   "cell_type": "code",
   "execution_count": 8,
   "metadata": {},
   "outputs": [],
   "source": [
    "df_p = pd.DataFrame({\"write_time\":df.groupby([\"file_size\"]).write_time.mean().values,\n",
    "                    \"load_time\":df.groupby([\"file_size\"]).load_time.mean().values},\n",
    "                   index=[df.file_size.unique()])"
   ]
  },
  {
   "cell_type": "code",
   "execution_count": 9,
   "metadata": {},
   "outputs": [
    {
     "data": {
      "text/plain": [
       "Text(0, 0.5, 'average time')"
      ]
     },
     "execution_count": 9,
     "metadata": {},
     "output_type": "execute_result"
    },
    {
     "data": {
      "image/png": "[encoded data removed]",
      "text/plain": [
       "<Figure size 576x360 with 1 Axes>"
      ]
     },
     "metadata": {
      "needs_background": "light"
     },
     "output_type": "display_data"
    }
   ],
   "source": [
    "ax = df_p.plot.line(title=\"Average write and load times\", marker='o', markersize=10, figsize=(8,5))\n",
    "ax.set_xlabel(\"file size in MB\")\n",
    "ax.set_ylabel(\"average time\")"
   ]
  },
  {
   "cell_type": "code",
   "execution_count": null,
   "metadata": {},
   "outputs": [],
   "source": []
  }
 ],
 "metadata": {
  "kernelspec": {
   "display_name": "Python 3",
   "language": "python",
   "name": "python3"
  },
  "language_info": {
   "codemirror_mode": {
    "name": "ipython",
    "version": 3
   },
   "file_extension": ".py",
   "mimetype": "text/x-python",
   "name": "python",
   "nbconvert_exporter": "python",
   "pygments_lexer": "ipython3",
   "version": "3.7.6"
  }
 },
 "nbformat": 4,
 "nbformat_minor": 4
}
