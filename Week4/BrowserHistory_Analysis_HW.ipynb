{
 "cells": [
  {
   "cell_type": "code",
   "execution_count": 1,
   "metadata": {},
   "outputs": [],
   "source": [
    "import pandas as pd\n",
    "\n",
    "import matplotlib\n",
    "import matplotlib.pyplot as plt"
   ]
  },
  {
   "cell_type": "code",
   "execution_count": 2,
   "metadata": {},
   "outputs": [
    {
     "data": {
      "text/plain": [
       "(1510, 3)"
      ]
     },
     "execution_count": 2,
     "metadata": {},
     "output_type": "execute_result"
    }
   ],
   "source": [
    "df_chrome = pd.read_csv('chrome_history.csv', header=None, names=['domain','Title', 'Time'])\n",
    "df_edge = pd.read_csv('edge_history.csv', header=None, names=['domain','Title', 'Time'])\n",
    "\n",
    "df = pd.concat([df_chrome, df_edge], ignore_index=True, sort=False)\n",
    "\n",
    "df.shape"
   ]
  },
  {
   "cell_type": "code",
   "execution_count": null,
   "metadata": {},
   "outputs": [],
   "source": []
  },
  {
   "cell_type": "code",
   "execution_count": 3,
   "metadata": {},
   "outputs": [
    {
     "data": {
      "text/html": [
       "<div>\n",
       "<style scoped>\n",
       "    .dataframe tbody tr th:only-of-type {\n",
       "        vertical-align: middle;\n",
       "    }\n",
       "\n",
       "    .dataframe tbody tr th {\n",
       "        vertical-align: top;\n",
       "    }\n",
       "\n",
       "    .dataframe thead th {\n",
       "        text-align: right;\n",
       "    }\n",
       "</style>\n",
       "<table border=\"1\" class=\"dataframe\">\n",
       "  <thead>\n",
       "    <tr style=\"text-align: right;\">\n",
       "      <th></th>\n",
       "      <th>domain</th>\n",
       "      <th>Title</th>\n",
       "      <th>Time</th>\n",
       "    </tr>\n",
       "  </thead>\n",
       "  <tbody>\n",
       "    <tr>\n",
       "      <th>0</th>\n",
       "      <td>https://www.google.com/</td>\n",
       "      <td></td>\n",
       "      <td>2021-02-04 19:37:49</td>\n",
       "    </tr>\n",
       "    <tr>\n",
       "      <th>1</th>\n",
       "      <td>https://www.google.com/search?ei=apMcYIyrFLul5...</td>\n",
       "      <td></td>\n",
       "      <td>2021-02-04 19:39:14</td>\n",
       "    </tr>\n",
       "    <tr>\n",
       "      <th>2</th>\n",
       "      <td>https://www.google.com/</td>\n",
       "      <td></td>\n",
       "      <td>2021-02-04 19:41:40</td>\n",
       "    </tr>\n",
       "    <tr>\n",
       "      <th>3</th>\n",
       "      <td>https://www.google.com/</td>\n",
       "      <td></td>\n",
       "      <td>2021-02-04 19:42:41</td>\n",
       "    </tr>\n",
       "    <tr>\n",
       "      <th>4</th>\n",
       "      <td>https://docs.anaconda.com/anaconda/install/win...</td>\n",
       "      <td></td>\n",
       "      <td>2021-02-04 19:42:53</td>\n",
       "    </tr>\n",
       "  </tbody>\n",
       "</table>\n",
       "</div>"
      ],
      "text/plain": [
       "                                              domain Title  \\\n",
       "0                            https://www.google.com/         \n",
       "1  https://www.google.com/search?ei=apMcYIyrFLul5...         \n",
       "2                            https://www.google.com/         \n",
       "3                            https://www.google.com/         \n",
       "4  https://docs.anaconda.com/anaconda/install/win...         \n",
       "\n",
       "                  Time  \n",
       "0  2021-02-04 19:37:49  \n",
       "1  2021-02-04 19:39:14  \n",
       "2  2021-02-04 19:41:40  \n",
       "3  2021-02-04 19:42:41  \n",
       "4  2021-02-04 19:42:53  "
      ]
     },
     "execution_count": 3,
     "metadata": {},
     "output_type": "execute_result"
    }
   ],
   "source": [
    "df.head()"
   ]
  },
  {
   "cell_type": "code",
   "execution_count": 4,
   "metadata": {},
   "outputs": [
    {
     "data": {
      "text/html": [
       "<div>\n",
       "<style scoped>\n",
       "    .dataframe tbody tr th:only-of-type {\n",
       "        vertical-align: middle;\n",
       "    }\n",
       "\n",
       "    .dataframe tbody tr th {\n",
       "        vertical-align: top;\n",
       "    }\n",
       "\n",
       "    .dataframe thead th {\n",
       "        text-align: right;\n",
       "    }\n",
       "</style>\n",
       "<table border=\"1\" class=\"dataframe\">\n",
       "  <thead>\n",
       "    <tr style=\"text-align: right;\">\n",
       "      <th></th>\n",
       "      <th>domain</th>\n",
       "      <th>Title</th>\n",
       "      <th>Time</th>\n",
       "    </tr>\n",
       "  </thead>\n",
       "  <tbody>\n",
       "    <tr>\n",
       "      <th>1505</th>\n",
       "      <td>https://www.w3schools.com/python/trypython.asp...</td>\n",
       "      <td></td>\n",
       "      <td>2021-02-21 12:59:07</td>\n",
       "    </tr>\n",
       "    <tr>\n",
       "      <th>1506</th>\n",
       "      <td>https://docs.python.org/3/library/re.html</td>\n",
       "      <td></td>\n",
       "      <td>2021-02-21 14:00:54</td>\n",
       "    </tr>\n",
       "    <tr>\n",
       "      <th>1507</th>\n",
       "      <td>https://www.bing.com/search?q=twinkle+twinkle+...</td>\n",
       "      <td></td>\n",
       "      <td>2021-02-21 15:12:09</td>\n",
       "    </tr>\n",
       "    <tr>\n",
       "      <th>1508</th>\n",
       "      <td>https://my.umbc.edu/</td>\n",
       "      <td></td>\n",
       "      <td>2021-02-21 16:29:26</td>\n",
       "    </tr>\n",
       "    <tr>\n",
       "      <th>1509</th>\n",
       "      <td>https://webauth.umbc.edu/umbcLogin?return_uri=...</td>\n",
       "      <td></td>\n",
       "      <td>2021-02-21 16:29:34</td>\n",
       "    </tr>\n",
       "  </tbody>\n",
       "</table>\n",
       "</div>"
      ],
      "text/plain": [
       "                                                 domain Title  \\\n",
       "1505  https://www.w3schools.com/python/trypython.asp...         \n",
       "1506          https://docs.python.org/3/library/re.html         \n",
       "1507  https://www.bing.com/search?q=twinkle+twinkle+...         \n",
       "1508                               https://my.umbc.edu/         \n",
       "1509  https://webauth.umbc.edu/umbcLogin?return_uri=...         \n",
       "\n",
       "                     Time  \n",
       "1505  2021-02-21 12:59:07  \n",
       "1506  2021-02-21 14:00:54  \n",
       "1507  2021-02-21 15:12:09  \n",
       "1508  2021-02-21 16:29:26  \n",
       "1509  2021-02-21 16:29:34  "
      ]
     },
     "execution_count": 4,
     "metadata": {},
     "output_type": "execute_result"
    }
   ],
   "source": [
    "df.tail()"
   ]
  },
  {
   "cell_type": "code",
   "execution_count": 5,
   "metadata": {},
   "outputs": [
    {
     "data": {
      "text/plain": [
       "domain    object\n",
       "Title     object\n",
       "Time      object\n",
       "dtype: object"
      ]
     },
     "execution_count": 5,
     "metadata": {},
     "output_type": "execute_result"
    }
   ],
   "source": [
    "df.dtypes"
   ]
  },
  {
   "cell_type": "code",
   "execution_count": 6,
   "metadata": {},
   "outputs": [
    {
     "data": {
      "text/plain": [
       "12"
      ]
     },
     "execution_count": 6,
     "metadata": {},
     "output_type": "execute_result"
    }
   ],
   "source": [
    "# time column is string and string date is starting with YYYY, so I can do string compares\n",
    "sum(df['Time'] < '1900') "
   ]
  },
  {
   "cell_type": "code",
   "execution_count": 7,
   "metadata": {},
   "outputs": [],
   "source": [
    "# I filter and get a copy, so I will not work on a slice, this will be a new dataframe. (essentially losing 1900 data points)\n",
    "df = df[df.Time > '1900'].copy() "
   ]
  },
  {
   "cell_type": "code",
   "execution_count": 8,
   "metadata": {},
   "outputs": [],
   "source": [
    "df['Time'] = pd.to_datetime(df['Time'], errors='coerce')"
   ]
  },
  {
   "cell_type": "code",
   "execution_count": 9,
   "metadata": {
    "scrolled": false
   },
   "outputs": [
    {
     "data": {
      "text/plain": [
       "https://mail.google.com/mail/u/0/#inbox                                                                                                                                                                                                                                                                                                                                                   33\n",
       "https://www.google.com/                                                                                                                                                                                                                                                                                                                                                                   19\n",
       "https://webauth.umbc.edu/umbcLogin?return_uri=https%3A%2F%2Fwebauth.umbc.edu%2Fidp%2Fauthn%2Fwauthn.jsp%3Fconversation%3De1s1&Service=shib2-idp&Expires=60&reqexts=LogoutAppUri%25aHR0cHM6Ly93ZWJhdXRoLnVtYmMuZWR1L3NoaWJib2xldGgvdGlja2V0bG9nb3V0LmNnaT9jb29raWU9VU1CQ0F1dGhUaWNrZXRzaGliMi1pZHAmcGF0aD0vaWRwL2F1dGhuLw%3D%3D%2Cmethod%25R0VU%2CRCSS%2CWebAuthParamsInURL                18\n",
       "https://my.umbc.edu/                                                                                                                                                                                                                                                                                                                                                                      17\n",
       "https://mail.google.com/mail/u/1/#inbox                                                                                                                                                                                                                                                                                                                                                   13\n",
       "http://localhost:8888/tree                                                                                                                                                                                                                                                                                                                                                                12\n",
       "https://umbcstudents-md.safecolleges.com/training/launch/course_work/2DA31078-44F2-11EB-863F-DC768E530B2E                                                                                                                                                                                                                                                                                 12\n",
       "https://github.com/SI78373/DS601_ID-SI78373                                                                                                                                                                                                                                                                                                                                               11\n",
       "https://github.com/msaricaumbc/DS601_Spring21/tree/main/Week2                                                                                                                                                                                                                                                                                                                             11\n",
       "https://github.com/SI78373/DS601_ID-SI78373/settings/access                                                                                                                                                                                                                                                                                                                               11\n",
       "https://blackboard.umbc.edu/?new_loc=%2Fultra%2Fcourse                                                                                                                                                                                                                                                                                                                                    11\n",
       "https://morganstanley.tal.net/vx/lang-en-GB/mobile-0/channel-1/brand-2/user-3119657/xf-a9513cf78139/candidate/eform/4151815/save_page                                                                                                                                                                                                                                                     10\n",
       "https://www.bing.com/search?q=internet+censorship+disadvantages+and+advantages&qs=NW&pq=internet+censorship+disadvantages+and+adva&sc=3-42&cvid=3A86A13CCFF24413A7EF7A227285E623&sp=1&first=35&FORM=PERE3                                                                                                                                                                                 10\n",
       "https://picresize.com/en/edit                                                                                                                                                                                                                                                                                                                                                              9\n",
       "https://umbc-csm.symplicity.com/students/index.php                                                                                                                                                                                                                                                                                                                                         9\n",
       "https://github.com/                                                                                                                                                                                                                                                                                                                                                                        8\n",
       "https://picresize.com/                                                                                                                                                                                                                                                                                                                                                                     8\n",
       "https://www.duplichecker.com/                                                                                                                                                                                                                                                                                                                                                              8\n",
       "https://www.bing.com/search?q=plagiarism+checker&cvid=de592304086e4aa891ffd01a59b0382a&FORM=ANAB01&PC=U531                                                                                                                                                                                                                                                                                 7\n",
       "https://github.com/msaricaumbc/DS601_Spring21                                                                                                                                                                                                                                                                                                                                              7\n",
       "https://umbc-csm.symplicity.com/students/index.php?s=home                                                                                                                                                                                                                                                                                                                                  7\n",
       "https://www.powtoon.com/new-dashboard/#/templates?toolbarState=default&toolbarWidget=myPowtoons&videoTypeId=a608f8ab-edd7-4f86-a218-2a9d33e3d72f&useCaseId=f4990180-aea4-4b74-bb4f-9706e146f277&mode=focused                                                                                                                                                                               7\n",
       "https://umbcstudents-md.safecolleges.com/training/launch/course_work/2FA70F78-5CE9-11EB-839F-D82B8BF6F803                                                                                                                                                                                                                                                                                  7\n",
       "https://plagiarismdetector.net/                                                                                                                                                                                                                                                                                                                                                            7\n",
       "https://www.bing.com/search?q=Team%20Building%205%20th%20Ed%20.%3A%20W.%20Gibb%20Dyer%2C%20Jr.%2C%20Jeffrey%20H.%20Dyer%2C%20and%20William%20G.%20Dyer%2C%202013%20%20pdf&qs=n&form=QBRE&sp=-1&pq=team%20building%205%20th%20ed%20.%3A%20w.%20gibb%20dyer%2C%20jr.%2C%20jeffrey%20h.%20dyer%2C%20and%20william%20g.%20dyer%2C%202013&sc=0-86&sk=&cvid=4EFF85DA1AA543A8B413272CAD7CA9F3     7\n",
       "https://www.aetnastudenthealth.com/en/school/890424/index.html                                                                                                                                                                                                                                                                                                                             7\n",
       "https://github.com/SI78373?tab=repositories                                                                                                                                                                                                                                                                                                                                                6\n",
       "https://umbcstudents-md.safecolleges.com/privacy                                                                                                                                                                                                                                                                                                                                           6\n",
       "https://www.w3schools.com/python/trypython.asp?filename=demo_class4                                                                                                                                                                                                                                                                                                                        6\n",
       "https://drive.google.com/drive/u/2/my-drive                                                                                                                                                                                                                                                                                                                                                6\n",
       "https://github.com/msaricaumbc/DS601_Spring21/blob/main/Week2/Homework-Week2.ipynb                                                                                                                                                                                                                                                                                                         6\n",
       "https://umbc2021springfair.vfairs.com/en/hall#hallview                                                                                                                                                                                                                                                                                                                                     5\n",
       "https://blackboard.umbc.edu/?new_loc=%2Fultra                                                                                                                                                                                                                                                                                                                                              5\n",
       "https://github.com/settings/emails                                                                                                                                                                                                                                                                                                                                                         5\n",
       "https://campuscard-selfservice.umbc.edu/photoupload.php?cid=70&expand=1&                                                                                                                                                                                                                                                                                                                   5\n",
       "https://www.bing.com/search?q=screen+recorder+with+sound&qs=HS&sk=HS1&sc=8-0&cvid=48E9A2045334487898789CBA7FAA84EA&FORM=QBRE&sp=2                                                                                                                                                                                                                                                          5\n",
       "https://www.grammarly.com/plagiarism-checker?q=plagiarism&utm_source=bing&utm_medium=cpc&utm_campaign=sa360opt&utm_content=&utm_term=plagiarism%20checker&matchtype=e&placement=&network=o&gclid=88ac029920521edb2f2062b6d304cfcd&gclsrc=3p.ds&msclkid=88ac029920521edb2f2062b6d304cfcd                                                                                                    5\n",
       "https://campuscard-selfservice.umbc.edu/index.php?cid=70&                                                                                                                                                                                                                                                                                                                                  5\n",
       "https://picresize.com/en/results                                                                                                                                                                                                                                                                                                                                                           5\n",
       "https://umbc-csm.symplicity.com/students/psx/profile                                                                                                                                                                                                                                                                                                                                       5\n",
       "https://umbc.webex.com/webappng/sites/umbc/dashboard                                                                                                                                                                                                                                                                                                                                       5\n",
       "https://finances.worldbank.org/browse?q=bangladesh&sortBy=relevance                                                                                                                                                                                                                                                                                                                        5\n",
       "file:///C:/Users/nazia/OneDrive/Desktop/Spring2021/605%20ethical%20issue/Book-Ethics%20for%20the%20information%20age.pdf                                                                                                                                                                                                                                                                   5\n",
       "https://blackboard.umbc.edu/ultra/courses/_61101_1/outline                                                                                                                                                                                                                                                                                                                                 4\n",
       "https://umbc2021springfair.vfairs.com/en/login                                                                                                                                                                                                                                                                                                                                             4\n",
       "file:///C:/Users/nazia/Downloads/Book-Ethics%20for%20the%20information%20age.pdf                                                                                                                                                                                                                                                                                                           4\n",
       "https://www.bing.com/search?q=free%20pdf%20editor&qs=n&form=QBRE&sp=-1&ghc=2&pq=free%20pdf%20e&sc=8-10&sk=&cvid=E8A67313BB5D456F93C82D50E00EF044                                                                                                                                                                                                                                           4\n",
       "https://mail.google.com/mail/u/0/#search/equity                                                                                                                                                                                                                                                                                                                                            4\n",
       "file:///C:/Users/nazia/OneDrive/Desktop/Spring2021/605%20ethical%20issue/paper%201/ethical%20concern%20over%20FRT.pdf                                                                                                                                                                                                                                                                      4\n",
       "https://archive.ics.uci.edu/ml/datasets.php?format=&task=&att=&area=bus&numAtt=&numIns=greater1000&type=&sort=nameUp&view=list                                                                                                                                                                                                                                                             4\n",
       "Name: domain, dtype: int64"
      ]
     },
     "execution_count": 9,
     "metadata": {},
     "output_type": "execute_result"
    }
   ],
   "source": [
    "df['domain'].value_counts()[:50]"
   ]
  },
  {
   "cell_type": "code",
   "execution_count": 10,
   "metadata": {
    "scrolled": true
   },
   "outputs": [
    {
     "data": {
      "text/plain": [
       "<AxesSubplot:>"
      ]
     },
     "execution_count": 10,
     "metadata": {},
     "output_type": "execute_result"
    },
    {
     "data": {
      "image/png": "[encoded data removed]",
      "text/plain": [
       "<Figure size 432x288 with 1 Axes>"
      ]
     },
     "metadata": {
      "needs_background": "light"
     },
     "output_type": "display_data"
    }
   ],
   "source": [
    "# top 10 sites that I visisted\n",
    "df['domain'].value_counts()[:10].plot(kind='bar')"
   ]
  },
  {
   "cell_type": "code",
   "execution_count": 11,
   "metadata": {},
   "outputs": [
    {
     "data": {
      "text/plain": [
       "Time\n",
       "0      30\n",
       "1      35\n",
       "2      47\n",
       "3      12\n",
       "8      28\n",
       "9      68\n",
       "10     66\n",
       "11     61\n",
       "12    111\n",
       "13     83\n",
       "14     68\n",
       "15     57\n",
       "16    108\n",
       "17    117\n",
       "18    105\n",
       "19    141\n",
       "20    127\n",
       "21     72\n",
       "22     92\n",
       "23     70\n",
       "Name: domain, dtype: int64"
      ]
     },
     "execution_count": 11,
     "metadata": {},
     "output_type": "execute_result"
    }
   ],
   "source": [
    "hourly_counts = df.groupby(df.Time.dt.hour).domain.size()\n",
    "hourly_counts"
   ]
  },
  {
   "cell_type": "code",
   "execution_count": 12,
   "metadata": {
    "scrolled": true
   },
   "outputs": [
    {
     "data": {
      "text/plain": [
       "<AxesSubplot:xlabel='Time'>"
      ]
     },
     "execution_count": 12,
     "metadata": {},
     "output_type": "execute_result"
    },
    {
     "data": {
      "image/png": "[encoded data removed]",
      "text/plain": [
       "<Figure size 432x288 with 1 Axes>"
      ]
     },
     "metadata": {
      "needs_background": "light"
     },
     "output_type": "display_data"
    }
   ],
   "source": [
    "hourly_counts.plot.bar()"
   ]
  },
  {
   "cell_type": "code",
   "execution_count": 13,
   "metadata": {},
   "outputs": [
    {
     "data": {
      "text/html": [
       "<div>\n",
       "<style scoped>\n",
       "    .dataframe tbody tr th:only-of-type {\n",
       "        vertical-align: middle;\n",
       "    }\n",
       "\n",
       "    .dataframe tbody tr th {\n",
       "        vertical-align: top;\n",
       "    }\n",
       "\n",
       "    .dataframe thead th {\n",
       "        text-align: right;\n",
       "    }\n",
       "</style>\n",
       "<table border=\"1\" class=\"dataframe\">\n",
       "  <thead>\n",
       "    <tr style=\"text-align: right;\">\n",
       "      <th></th>\n",
       "      <th>domain</th>\n",
       "      <th>Title</th>\n",
       "      <th>Time</th>\n",
       "      <th>Day</th>\n",
       "      <th>DayIndex</th>\n",
       "    </tr>\n",
       "  </thead>\n",
       "  <tbody>\n",
       "    <tr>\n",
       "      <th>0</th>\n",
       "      <td>https://www.google.com/</td>\n",
       "      <td></td>\n",
       "      <td>2021-02-04 19:37:49</td>\n",
       "      <td>Thursday</td>\n",
       "      <td>3</td>\n",
       "    </tr>\n",
       "    <tr>\n",
       "      <th>1</th>\n",
       "      <td>https://www.google.com/search?ei=apMcYIyrFLul5...</td>\n",
       "      <td></td>\n",
       "      <td>2021-02-04 19:39:14</td>\n",
       "      <td>Thursday</td>\n",
       "      <td>3</td>\n",
       "    </tr>\n",
       "    <tr>\n",
       "      <th>2</th>\n",
       "      <td>https://www.google.com/</td>\n",
       "      <td></td>\n",
       "      <td>2021-02-04 19:41:40</td>\n",
       "      <td>Thursday</td>\n",
       "      <td>3</td>\n",
       "    </tr>\n",
       "    <tr>\n",
       "      <th>3</th>\n",
       "      <td>https://www.google.com/</td>\n",
       "      <td></td>\n",
       "      <td>2021-02-04 19:42:41</td>\n",
       "      <td>Thursday</td>\n",
       "      <td>3</td>\n",
       "    </tr>\n",
       "    <tr>\n",
       "      <th>4</th>\n",
       "      <td>https://docs.anaconda.com/anaconda/install/win...</td>\n",
       "      <td></td>\n",
       "      <td>2021-02-04 19:42:53</td>\n",
       "      <td>Thursday</td>\n",
       "      <td>3</td>\n",
       "    </tr>\n",
       "  </tbody>\n",
       "</table>\n",
       "</div>"
      ],
      "text/plain": [
       "                                              domain Title  \\\n",
       "0                            https://www.google.com/         \n",
       "1  https://www.google.com/search?ei=apMcYIyrFLul5...         \n",
       "2                            https://www.google.com/         \n",
       "3                            https://www.google.com/         \n",
       "4  https://docs.anaconda.com/anaconda/install/win...         \n",
       "\n",
       "                 Time       Day  DayIndex  \n",
       "0 2021-02-04 19:37:49  Thursday         3  \n",
       "1 2021-02-04 19:39:14  Thursday         3  \n",
       "2 2021-02-04 19:41:40  Thursday         3  \n",
       "3 2021-02-04 19:42:41  Thursday         3  \n",
       "4 2021-02-04 19:42:53  Thursday         3  "
      ]
     },
     "execution_count": 13,
     "metadata": {},
     "output_type": "execute_result"
    }
   ],
   "source": [
    "df['Day'] = [ d.day_name() for d in df['Time']]\n",
    "df['DayIndex'] = [ d.dayofweek for d in df['Time']]\n",
    "df.head()"
   ]
  },
  {
   "cell_type": "code",
   "execution_count": 14,
   "metadata": {},
   "outputs": [
    {
     "data": {
      "text/plain": [
       "Wednesday    345\n",
       "Thursday     258\n",
       "Friday       250\n",
       "Saturday     195\n",
       "Monday       191\n",
       "Tuesday      141\n",
       "Sunday       118\n",
       "Name: Day, dtype: int64"
      ]
     },
     "execution_count": 14,
     "metadata": {},
     "output_type": "execute_result"
    }
   ],
   "source": [
    "df['Day'].value_counts()"
   ]
  },
  {
   "cell_type": "code",
   "execution_count": 15,
   "metadata": {},
   "outputs": [
    {
     "data": {
      "text/plain": [
       "0    191\n",
       "1    141\n",
       "2    345\n",
       "3    258\n",
       "4    250\n",
       "5    195\n",
       "6    118\n",
       "Name: DayIndex, dtype: int64"
      ]
     },
     "execution_count": 15,
     "metadata": {},
     "output_type": "execute_result"
    }
   ],
   "source": [
    "days_sorted = df['DayIndex'].value_counts().sort_index()\n",
    "days_sorted"
   ]
  },
  {
   "cell_type": "code",
   "execution_count": 16,
   "metadata": {},
   "outputs": [
    {
     "data": {
      "image/png": "[encoded data removed]",
      "text/plain": [
       "<Figure size 432x288 with 1 Axes>"
      ]
     },
     "metadata": {
      "needs_background": "light"
     },
     "output_type": "display_data"
    }
   ],
   "source": [
    "days_sorted.plot.bar()\n",
    "plt.xticks(days_sorted.index, ['M', 'T', 'W','Th', 'F', 'Sa','Su'], rotation=0)\n",
    "\n",
    "plt.show()"
   ]
  },
  {
   "cell_type": "code",
   "execution_count": 17,
   "metadata": {},
   "outputs": [
    {
     "data": {
      "text/html": [
       "<div>\n",
       "<style scoped>\n",
       "    .dataframe tbody tr th:only-of-type {\n",
       "        vertical-align: middle;\n",
       "    }\n",
       "\n",
       "    .dataframe tbody tr th {\n",
       "        vertical-align: top;\n",
       "    }\n",
       "\n",
       "    .dataframe thead th {\n",
       "        text-align: right;\n",
       "    }\n",
       "</style>\n",
       "<table border=\"1\" class=\"dataframe\">\n",
       "  <thead>\n",
       "    <tr style=\"text-align: right;\">\n",
       "      <th></th>\n",
       "      <th>domain</th>\n",
       "      <th>Title</th>\n",
       "      <th>Time</th>\n",
       "      <th>Day</th>\n",
       "      <th>DayIndex</th>\n",
       "      <th>isWeekend</th>\n",
       "    </tr>\n",
       "  </thead>\n",
       "  <tbody>\n",
       "    <tr>\n",
       "      <th>0</th>\n",
       "      <td>https://www.google.com/</td>\n",
       "      <td></td>\n",
       "      <td>2021-02-04 19:37:49</td>\n",
       "      <td>Thursday</td>\n",
       "      <td>3</td>\n",
       "      <td>False</td>\n",
       "    </tr>\n",
       "    <tr>\n",
       "      <th>1</th>\n",
       "      <td>https://www.google.com/search?ei=apMcYIyrFLul5...</td>\n",
       "      <td></td>\n",
       "      <td>2021-02-04 19:39:14</td>\n",
       "      <td>Thursday</td>\n",
       "      <td>3</td>\n",
       "      <td>False</td>\n",
       "    </tr>\n",
       "    <tr>\n",
       "      <th>2</th>\n",
       "      <td>https://www.google.com/</td>\n",
       "      <td></td>\n",
       "      <td>2021-02-04 19:41:40</td>\n",
       "      <td>Thursday</td>\n",
       "      <td>3</td>\n",
       "      <td>False</td>\n",
       "    </tr>\n",
       "    <tr>\n",
       "      <th>3</th>\n",
       "      <td>https://www.google.com/</td>\n",
       "      <td></td>\n",
       "      <td>2021-02-04 19:42:41</td>\n",
       "      <td>Thursday</td>\n",
       "      <td>3</td>\n",
       "      <td>False</td>\n",
       "    </tr>\n",
       "    <tr>\n",
       "      <th>4</th>\n",
       "      <td>https://docs.anaconda.com/anaconda/install/win...</td>\n",
       "      <td></td>\n",
       "      <td>2021-02-04 19:42:53</td>\n",
       "      <td>Thursday</td>\n",
       "      <td>3</td>\n",
       "      <td>False</td>\n",
       "    </tr>\n",
       "  </tbody>\n",
       "</table>\n",
       "</div>"
      ],
      "text/plain": [
       "                                              domain Title  \\\n",
       "0                            https://www.google.com/         \n",
       "1  https://www.google.com/search?ei=apMcYIyrFLul5...         \n",
       "2                            https://www.google.com/         \n",
       "3                            https://www.google.com/         \n",
       "4  https://docs.anaconda.com/anaconda/install/win...         \n",
       "\n",
       "                 Time       Day  DayIndex  isWeekend  \n",
       "0 2021-02-04 19:37:49  Thursday         3      False  \n",
       "1 2021-02-04 19:39:14  Thursday         3      False  \n",
       "2 2021-02-04 19:41:40  Thursday         3      False  \n",
       "3 2021-02-04 19:42:41  Thursday         3      False  \n",
       "4 2021-02-04 19:42:53  Thursday         3      False  "
      ]
     },
     "execution_count": 17,
     "metadata": {},
     "output_type": "execute_result"
    }
   ],
   "source": [
    "def is_weekend(day): \n",
    "    return day in ['Saturday', 'Sunday']\n",
    "\n",
    "\n",
    "df['isWeekend'] = [ is_weekend(i) for i in df['Day']]\n",
    "df.head()"
   ]
  },
  {
   "cell_type": "code",
   "execution_count": 18,
   "metadata": {},
   "outputs": [],
   "source": [
    "weekend = df[ df['isWeekend'] == True ]\n",
    "\n",
    "weekday = df[ df['isWeekend'] == False ]\n"
   ]
  },
  {
   "cell_type": "code",
   "execution_count": 19,
   "metadata": {},
   "outputs": [
    {
     "data": {
      "text/html": [
       "<div>\n",
       "<style scoped>\n",
       "    .dataframe tbody tr th:only-of-type {\n",
       "        vertical-align: middle;\n",
       "    }\n",
       "\n",
       "    .dataframe tbody tr th {\n",
       "        vertical-align: top;\n",
       "    }\n",
       "\n",
       "    .dataframe thead th {\n",
       "        text-align: right;\n",
       "    }\n",
       "</style>\n",
       "<table border=\"1\" class=\"dataframe\">\n",
       "  <thead>\n",
       "    <tr style=\"text-align: right;\">\n",
       "      <th></th>\n",
       "      <th>domain</th>\n",
       "      <th>Title</th>\n",
       "      <th>Time</th>\n",
       "      <th>Day</th>\n",
       "      <th>DayIndex</th>\n",
       "      <th>isWeekend</th>\n",
       "    </tr>\n",
       "  </thead>\n",
       "  <tbody>\n",
       "    <tr>\n",
       "      <th>28</th>\n",
       "      <td>https://www.google.com/</td>\n",
       "      <td></td>\n",
       "      <td>2021-02-06 01:18:19</td>\n",
       "      <td>Saturday</td>\n",
       "      <td>5</td>\n",
       "      <td>True</td>\n",
       "    </tr>\n",
       "    <tr>\n",
       "      <th>29</th>\n",
       "      <td>https://www.google.com/</td>\n",
       "      <td></td>\n",
       "      <td>2021-02-06 01:25:20</td>\n",
       "      <td>Saturday</td>\n",
       "      <td>5</td>\n",
       "      <td>True</td>\n",
       "    </tr>\n",
       "    <tr>\n",
       "      <th>30</th>\n",
       "      <td>http://localhost:8888/notebooks/test1.ipynb</td>\n",
       "      <td></td>\n",
       "      <td>2021-02-06 02:43:11</td>\n",
       "      <td>Saturday</td>\n",
       "      <td>5</td>\n",
       "      <td>True</td>\n",
       "    </tr>\n",
       "    <tr>\n",
       "      <th>31</th>\n",
       "      <td>https://github.com/msaricaumbc/DS601_Spring21/...</td>\n",
       "      <td></td>\n",
       "      <td>2021-02-06 02:43:22</td>\n",
       "      <td>Saturday</td>\n",
       "      <td>5</td>\n",
       "      <td>True</td>\n",
       "    </tr>\n",
       "    <tr>\n",
       "      <th>32</th>\n",
       "      <td>https://www.google.com/</td>\n",
       "      <td></td>\n",
       "      <td>2021-02-06 02:43:22</td>\n",
       "      <td>Saturday</td>\n",
       "      <td>5</td>\n",
       "      <td>True</td>\n",
       "    </tr>\n",
       "  </tbody>\n",
       "</table>\n",
       "</div>"
      ],
      "text/plain": [
       "                                               domain Title  \\\n",
       "28                            https://www.google.com/         \n",
       "29                            https://www.google.com/         \n",
       "30        http://localhost:8888/notebooks/test1.ipynb         \n",
       "31  https://github.com/msaricaumbc/DS601_Spring21/...         \n",
       "32                            https://www.google.com/         \n",
       "\n",
       "                  Time       Day  DayIndex  isWeekend  \n",
       "28 2021-02-06 01:18:19  Saturday         5       True  \n",
       "29 2021-02-06 01:25:20  Saturday         5       True  \n",
       "30 2021-02-06 02:43:11  Saturday         5       True  \n",
       "31 2021-02-06 02:43:22  Saturday         5       True  \n",
       "32 2021-02-06 02:43:22  Saturday         5       True  "
      ]
     },
     "execution_count": 19,
     "metadata": {},
     "output_type": "execute_result"
    }
   ],
   "source": [
    "weekend.head()"
   ]
  },
  {
   "cell_type": "code",
   "execution_count": 20,
   "metadata": {},
   "outputs": [
    {
     "data": {
      "text/plain": [
       "https://mail.google.com/mail/u/0/#inbox                                                                                                                                                                                                                                                                                                                                       31\n",
       "https://my.umbc.edu/                                                                                                                                                                                                                                                                                                                                                          15\n",
       "https://www.google.com/                                                                                                                                                                                                                                                                                                                                                       14\n",
       "https://umbcstudents-md.safecolleges.com/training/launch/course_work/2DA31078-44F2-11EB-863F-DC768E530B2E                                                                                                                                                                                                                                                                     12\n",
       "https://webauth.umbc.edu/umbcLogin?return_uri=https%3A%2F%2Fwebauth.umbc.edu%2Fidp%2Fauthn%2Fwauthn.jsp%3Fconversation%3De1s1&Service=shib2-idp&Expires=60&reqexts=LogoutAppUri%25aHR0cHM6Ly93ZWJhdXRoLnVtYmMuZWR1L3NoaWJib2xldGgvdGlja2V0bG9nb3V0LmNnaT9jb29raWU9VU1CQ0F1dGhUaWNrZXRzaGliMi1pZHAmcGF0aD0vaWRwL2F1dGhuLw%3D%3D%2Cmethod%25R0VU%2CRCSS%2CWebAuthParamsInURL    12\n",
       "Name: domain, dtype: int64"
      ]
     },
     "execution_count": 20,
     "metadata": {},
     "output_type": "execute_result"
    }
   ],
   "source": [
    "weekday['domain'].value_counts()[:5]"
   ]
  },
  {
   "cell_type": "code",
   "execution_count": 21,
   "metadata": {},
   "outputs": [
    {
     "data": {
      "text/plain": [
       "https://www.duplichecker.com/                                                                                                                                                                                                                                                                                                                                                 7\n",
       "https://webauth.umbc.edu/umbcLogin?return_uri=https%3A%2F%2Fwebauth.umbc.edu%2Fidp%2Fauthn%2Fwauthn.jsp%3Fconversation%3De1s1&Service=shib2-idp&Expires=60&reqexts=LogoutAppUri%25aHR0cHM6Ly93ZWJhdXRoLnVtYmMuZWR1L3NoaWJib2xldGgvdGlja2V0bG9nb3V0LmNnaT9jb29raWU9VU1CQ0F1dGhUaWNrZXRzaGliMi1pZHAmcGF0aD0vaWRwL2F1dGhuLw%3D%3D%2Cmethod%25R0VU%2CRCSS%2CWebAuthParamsInURL    6\n",
       "https://github.com/SI78373/DS601_ID-SI78373                                                                                                                                                                                                                                                                                                                                   6\n",
       "https://www.w3schools.com/python/trypython.asp?filename=demo_class4                                                                                                                                                                                                                                                                                                           6\n",
       "https://finances.worldbank.org/browse?q=bangladesh&sortBy=relevance                                                                                                                                                                                                                                                                                                           5\n",
       "Name: domain, dtype: int64"
      ]
     },
     "execution_count": 21,
     "metadata": {},
     "output_type": "execute_result"
    }
   ],
   "source": [
    "weekend['domain'].value_counts()[:5]"
   ]
  },
  {
   "cell_type": "code",
   "execution_count": 22,
   "metadata": {},
   "outputs": [
    {
     "data": {
      "image/png": "[encoded data removed]",
      "text/plain": [
       "<Figure size 432x288 with 1 Axes>"
      ]
     },
     "metadata": {
      "needs_background": "light"
     },
     "output_type": "display_data"
    }
   ],
   "source": [
    "def show_stats(df, color, alpha=1):\n",
    "    hourly_counts = df.groupby(df.Time.dt.hour).domain.size()\n",
    "    \n",
    "    # fill in the missing hours\n",
    "    for h in range(24):\n",
    "        if h not in hourly_counts:\n",
    "            hourly_counts[h]=0 # I initially didn't do this and hours were not lining up\n",
    "            \n",
    "    hourly_counts.sort_index().plot.bar(color=color, alpha=alpha)\n",
    "    plt.ylim([0, 1300])\n",
    "\n",
    "    \n",
    "show_stats(weekend, 'red', 1)\n",
    "    \n",
    "show_stats(weekday, 'blue', 0.5)\n"
   ]
  },
  {
   "cell_type": "code",
   "execution_count": 23,
   "metadata": {},
   "outputs": [],
   "source": [
    "# be skeptical about your data!\n",
    "# am I on computer a lot more on the weekdays \n",
    "# or it shows more simply becasue there are more weekdays "
   ]
  },
  {
   "cell_type": "code",
   "execution_count": 24,
   "metadata": {},
   "outputs": [
    {
     "data": {
      "image/png": "[encoded data removed]",
      "text/plain": [
       "<Figure size 432x288 with 1 Axes>"
      ]
     },
     "metadata": {
      "needs_background": "light"
     },
     "output_type": "display_data"
    },
    {
     "data": {
      "image/png": "[encoded data removed]",
      "text/plain": [
       "<Figure size 432x288 with 1 Axes>"
      ]
     },
     "metadata": {
      "needs_background": "light"
     },
     "output_type": "display_data"
    }
   ],
   "source": [
    "def show_stats(df, color, alpha=1, title='', y_lim = None):\n",
    "    hourly_counts = df.groupby(df.Time.dt.hour).domain.size()\n",
    "    \n",
    "    days_counts = df.Time.dt.date.nunique()\n",
    "    \n",
    "    # fill in the missing hours\n",
    "    for h in range(24):\n",
    "        if h not in hourly_counts:\n",
    "            hourly_counts[h]=0 # I initially didn't do this and hours were not lining up\n",
    "        else: \n",
    "            hourly_counts[h] = hourly_counts[h] * 100.0 /  days_counts # I multiplied by 100.0 to make it float and also not to loose decimals\n",
    "            \n",
    "    hourly_counts.sort_index().plot.bar(color=color, alpha=alpha, title=title)\n",
    "    \n",
    "    if y_lim != None:\n",
    "        plt.ylim(y_lim)\n",
    "    plt.show()\n",
    "\n",
    "\n",
    "    \n",
    "y_lim=[0, 1800]\n",
    "show_stats(weekend, 'red', 1, 'Weekend', y_lim=y_lim)\n",
    "    \n",
    "show_stats(weekday, 'blue', 0.5, 'Weekday', y_lim=y_lim)"
   ]
  },
  {
   "cell_type": "code",
   "execution_count": 25,
   "metadata": {
    "scrolled": false
   },
   "outputs": [
    {
     "data": {
      "text/plain": [
       "https://mail.google.com/mail/u/0/#inbox                                                                                                                                                                                                                                                                                                                                                   33\n",
       "https://www.google.com/                                                                                                                                                                                                                                                                                                                                                                   19\n",
       "https://webauth.umbc.edu/umbcLogin?return_uri=https%3A%2F%2Fwebauth.umbc.edu%2Fidp%2Fauthn%2Fwauthn.jsp%3Fconversation%3De1s1&Service=shib2-idp&Expires=60&reqexts=LogoutAppUri%25aHR0cHM6Ly93ZWJhdXRoLnVtYmMuZWR1L3NoaWJib2xldGgvdGlja2V0bG9nb3V0LmNnaT9jb29raWU9VU1CQ0F1dGhUaWNrZXRzaGliMi1pZHAmcGF0aD0vaWRwL2F1dGhuLw%3D%3D%2Cmethod%25R0VU%2CRCSS%2CWebAuthParamsInURL                18\n",
       "https://my.umbc.edu/                                                                                                                                                                                                                                                                                                                                                                      17\n",
       "https://mail.google.com/mail/u/1/#inbox                                                                                                                                                                                                                                                                                                                                                   13\n",
       "http://localhost:8888/tree                                                                                                                                                                                                                                                                                                                                                                12\n",
       "https://umbcstudents-md.safecolleges.com/training/launch/course_work/2DA31078-44F2-11EB-863F-DC768E530B2E                                                                                                                                                                                                                                                                                 12\n",
       "https://github.com/SI78373/DS601_ID-SI78373                                                                                                                                                                                                                                                                                                                                               11\n",
       "https://github.com/msaricaumbc/DS601_Spring21/tree/main/Week2                                                                                                                                                                                                                                                                                                                             11\n",
       "https://github.com/SI78373/DS601_ID-SI78373/settings/access                                                                                                                                                                                                                                                                                                                               11\n",
       "https://blackboard.umbc.edu/?new_loc=%2Fultra%2Fcourse                                                                                                                                                                                                                                                                                                                                    11\n",
       "https://morganstanley.tal.net/vx/lang-en-GB/mobile-0/channel-1/brand-2/user-3119657/xf-a9513cf78139/candidate/eform/4151815/save_page                                                                                                                                                                                                                                                     10\n",
       "https://www.bing.com/search?q=internet+censorship+disadvantages+and+advantages&qs=NW&pq=internet+censorship+disadvantages+and+adva&sc=3-42&cvid=3A86A13CCFF24413A7EF7A227285E623&sp=1&first=35&FORM=PERE3                                                                                                                                                                                 10\n",
       "https://picresize.com/en/edit                                                                                                                                                                                                                                                                                                                                                              9\n",
       "https://umbc-csm.symplicity.com/students/index.php                                                                                                                                                                                                                                                                                                                                         9\n",
       "https://github.com/                                                                                                                                                                                                                                                                                                                                                                        8\n",
       "https://picresize.com/                                                                                                                                                                                                                                                                                                                                                                     8\n",
       "https://www.duplichecker.com/                                                                                                                                                                                                                                                                                                                                                              8\n",
       "https://www.bing.com/search?q=plagiarism+checker&cvid=de592304086e4aa891ffd01a59b0382a&FORM=ANAB01&PC=U531                                                                                                                                                                                                                                                                                 7\n",
       "https://github.com/msaricaumbc/DS601_Spring21                                                                                                                                                                                                                                                                                                                                              7\n",
       "https://umbc-csm.symplicity.com/students/index.php?s=home                                                                                                                                                                                                                                                                                                                                  7\n",
       "https://www.powtoon.com/new-dashboard/#/templates?toolbarState=default&toolbarWidget=myPowtoons&videoTypeId=a608f8ab-edd7-4f86-a218-2a9d33e3d72f&useCaseId=f4990180-aea4-4b74-bb4f-9706e146f277&mode=focused                                                                                                                                                                               7\n",
       "https://umbcstudents-md.safecolleges.com/training/launch/course_work/2FA70F78-5CE9-11EB-839F-D82B8BF6F803                                                                                                                                                                                                                                                                                  7\n",
       "https://plagiarismdetector.net/                                                                                                                                                                                                                                                                                                                                                            7\n",
       "https://www.bing.com/search?q=Team%20Building%205%20th%20Ed%20.%3A%20W.%20Gibb%20Dyer%2C%20Jr.%2C%20Jeffrey%20H.%20Dyer%2C%20and%20William%20G.%20Dyer%2C%202013%20%20pdf&qs=n&form=QBRE&sp=-1&pq=team%20building%205%20th%20ed%20.%3A%20w.%20gibb%20dyer%2C%20jr.%2C%20jeffrey%20h.%20dyer%2C%20and%20william%20g.%20dyer%2C%202013&sc=0-86&sk=&cvid=4EFF85DA1AA543A8B413272CAD7CA9F3     7\n",
       "https://www.aetnastudenthealth.com/en/school/890424/index.html                                                                                                                                                                                                                                                                                                                             7\n",
       "https://github.com/SI78373?tab=repositories                                                                                                                                                                                                                                                                                                                                                6\n",
       "https://umbcstudents-md.safecolleges.com/privacy                                                                                                                                                                                                                                                                                                                                           6\n",
       "https://www.w3schools.com/python/trypython.asp?filename=demo_class4                                                                                                                                                                                                                                                                                                                        6\n",
       "https://drive.google.com/drive/u/2/my-drive                                                                                                                                                                                                                                                                                                                                                6\n",
       "https://github.com/msaricaumbc/DS601_Spring21/blob/main/Week2/Homework-Week2.ipynb                                                                                                                                                                                                                                                                                                         6\n",
       "https://umbc2021springfair.vfairs.com/en/hall#hallview                                                                                                                                                                                                                                                                                                                                     5\n",
       "https://blackboard.umbc.edu/?new_loc=%2Fultra                                                                                                                                                                                                                                                                                                                                              5\n",
       "https://github.com/settings/emails                                                                                                                                                                                                                                                                                                                                                         5\n",
       "https://campuscard-selfservice.umbc.edu/photoupload.php?cid=70&expand=1&                                                                                                                                                                                                                                                                                                                   5\n",
       "https://www.bing.com/search?q=screen+recorder+with+sound&qs=HS&sk=HS1&sc=8-0&cvid=48E9A2045334487898789CBA7FAA84EA&FORM=QBRE&sp=2                                                                                                                                                                                                                                                          5\n",
       "https://www.grammarly.com/plagiarism-checker?q=plagiarism&utm_source=bing&utm_medium=cpc&utm_campaign=sa360opt&utm_content=&utm_term=plagiarism%20checker&matchtype=e&placement=&network=o&gclid=88ac029920521edb2f2062b6d304cfcd&gclsrc=3p.ds&msclkid=88ac029920521edb2f2062b6d304cfcd                                                                                                    5\n",
       "https://campuscard-selfservice.umbc.edu/index.php?cid=70&                                                                                                                                                                                                                                                                                                                                  5\n",
       "https://picresize.com/en/results                                                                                                                                                                                                                                                                                                                                                           5\n",
       "https://umbc-csm.symplicity.com/students/psx/profile                                                                                                                                                                                                                                                                                                                                       5\n",
       "https://umbc.webex.com/webappng/sites/umbc/dashboard                                                                                                                                                                                                                                                                                                                                       5\n",
       "https://finances.worldbank.org/browse?q=bangladesh&sortBy=relevance                                                                                                                                                                                                                                                                                                                        5\n",
       "file:///C:/Users/nazia/OneDrive/Desktop/Spring2021/605%20ethical%20issue/Book-Ethics%20for%20the%20information%20age.pdf                                                                                                                                                                                                                                                                   5\n",
       "https://blackboard.umbc.edu/ultra/courses/_61101_1/outline                                                                                                                                                                                                                                                                                                                                 4\n",
       "https://umbc2021springfair.vfairs.com/en/login                                                                                                                                                                                                                                                                                                                                             4\n",
       "file:///C:/Users/nazia/Downloads/Book-Ethics%20for%20the%20information%20age.pdf                                                                                                                                                                                                                                                                                                           4\n",
       "https://www.bing.com/search?q=free%20pdf%20editor&qs=n&form=QBRE&sp=-1&ghc=2&pq=free%20pdf%20e&sc=8-10&sk=&cvid=E8A67313BB5D456F93C82D50E00EF044                                                                                                                                                                                                                                           4\n",
       "https://mail.google.com/mail/u/0/#search/equity                                                                                                                                                                                                                                                                                                                                            4\n",
       "file:///C:/Users/nazia/OneDrive/Desktop/Spring2021/605%20ethical%20issue/paper%201/ethical%20concern%20over%20FRT.pdf                                                                                                                                                                                                                                                                      4\n",
       "https://archive.ics.uci.edu/ml/datasets.php?format=&task=&att=&area=bus&numAtt=&numIns=greater1000&type=&sort=nameUp&view=list                                                                                                                                                                                                                                                             4\n",
       "Name: domain, dtype: int64"
      ]
     },
     "execution_count": 25,
     "metadata": {},
     "output_type": "execute_result"
    }
   ],
   "source": [
    "df['domain'].value_counts()[:50]"
   ]
  },
  {
   "cell_type": "code",
   "execution_count": null,
   "metadata": {},
   "outputs": [],
   "source": []
  },
  {
   "cell_type": "code",
   "execution_count": 26,
   "metadata": {},
   "outputs": [],
   "source": [
    "df['domain'] = df['domain'].astype(str)"
   ]
  },
  {
   "cell_type": "code",
   "execution_count": 27,
   "metadata": {},
   "outputs": [],
   "source": [
    "def get_data_for_domain(val):\n",
    "    return df[ [True if val.lower() in i.lower() else False for i in df['domain'] ]]\n",
    "\n",
    "\n",
    "def show_domain_stats(domain, color='blue', alpha=1):\n",
    "    data = get_data_for_domain(domain)\n",
    "    show_stats(data, color, alpha)\n",
    "    return data"
   ]
  },
  {
   "cell_type": "code",
   "execution_count": 28,
   "metadata": {},
   "outputs": [
    {
     "data": {
      "image/png": "[encoded data removed]",
      "text/plain": [
       "<Figure size 432x288 with 1 Axes>"
      ]
     },
     "metadata": {
      "needs_background": "light"
     },
     "output_type": "display_data"
    }
   ],
   "source": [
    "_= show_domain_stats('facebook', 'blue')"
   ]
  },
  {
   "cell_type": "code",
   "execution_count": 29,
   "metadata": {},
   "outputs": [
    {
     "data": {
      "image/png": "[encoded data removed]",
      "text/plain": [
       "<Figure size 432x288 with 1 Axes>"
      ]
     },
     "metadata": {
      "needs_background": "light"
     },
     "output_type": "display_data"
    }
   ],
   "source": [
    "_ = show_domain_stats('stackover', 'magenta')"
   ]
  },
  {
   "cell_type": "code",
   "execution_count": 30,
   "metadata": {},
   "outputs": [
    {
     "data": {
      "image/png": "[encoded data removed]",
      "text/plain": [
       "<Figure size 432x288 with 1 Axes>"
      ]
     },
     "metadata": {
      "needs_background": "light"
     },
     "output_type": "display_data"
    }
   ],
   "source": [
    "_ = show_domain_stats('netflix', 'red')"
   ]
  },
  {
   "cell_type": "code",
   "execution_count": 31,
   "metadata": {},
   "outputs": [
    {
     "data": {
      "image/png": "[encoded data removed]",
      "text/plain": [
       "<Figure size 432x288 with 1 Axes>"
      ]
     },
     "metadata": {
      "needs_background": "light"
     },
     "output_type": "display_data"
    }
   ],
   "source": [
    "_=show_domain_stats('amazon', 'black')"
   ]
  },
  {
   "cell_type": "code",
   "execution_count": 32,
   "metadata": {},
   "outputs": [
    {
     "data": {
      "image/png": "[encoded data removed]",
      "text/plain": [
       "<Figure size 432x288 with 1 Axes>"
      ]
     },
     "metadata": {
      "needs_background": "light"
     },
     "output_type": "display_data"
    }
   ],
   "source": [
    "_=show_domain_stats('blackboard', 'yellow')"
   ]
  },
  {
   "cell_type": "code",
   "execution_count": 33,
   "metadata": {},
   "outputs": [
    {
     "data": {
      "image/png": "[encoded data removed]",
      "text/plain": [
       "<Figure size 432x288 with 1 Axes>"
      ]
     },
     "metadata": {
      "needs_background": "light"
     },
     "output_type": "display_data"
    }
   ],
   "source": [
    "_=show_domain_stats('youtube', 'green')"
   ]
  },
  {
   "cell_type": "code",
   "execution_count": 34,
   "metadata": {},
   "outputs": [
    {
     "data": {
      "image/png": "[encoded data removed]",
      "text/plain": [
       "<Figure size 432x288 with 1 Axes>"
      ]
     },
     "metadata": {
      "needs_background": "light"
     },
     "output_type": "display_data"
    }
   ],
   "source": [
    "_=show_domain_stats('researchgate', 'skyblue')"
   ]
  },
  {
   "cell_type": "code",
   "execution_count": 35,
   "metadata": {},
   "outputs": [
    {
     "data": {
      "image/png": "[encoded data removed]",
      "text/plain": [
       "<Figure size 432x288 with 1 Axes>"
      ]
     },
     "metadata": {
      "needs_background": "light"
     },
     "output_type": "display_data"
    }
   ],
   "source": [
    "_=show_domain_stats('github', 'orange')"
   ]
  },
  {
   "cell_type": "markdown",
   "metadata": {},
   "source": [
    "### Based on data, what can we tell about this person?\n",
    "\n",
    "1. Is this a work computer/personal computer?\n",
    "1. Is he employed?\n",
    "1. What is his interests?\n",
    "1. Anything interesting? "
   ]
  },
  {
   "cell_type": "markdown",
   "metadata": {},
   "source": [
    "answer here"
   ]
  },
  {
   "cell_type": "markdown",
   "metadata": {},
   "source": [
    "### Do you give permission for another student to analyze your `history_cleaned.csv`? \n",
    "\n",
    "(Your name will stay confidencial)"
   ]
  },
  {
   "cell_type": "markdown",
   "metadata": {},
   "source": [
    "Yes"
   ]
  },
  {
   "cell_type": "markdown",
   "metadata": {},
   "source": [
    "### What do you think about this assignment? ( 3 sentences at most! ) "
   ]
  },
  {
   "cell_type": "markdown",
   "metadata": {},
   "source": [
    "answer here"
   ]
  },
  {
   "cell_type": "markdown",
   "metadata": {},
   "source": [
    "This was an interesting HW and I learned how to clean and analyze data. "
   ]
  },
  {
   "cell_type": "code",
   "execution_count": null,
   "metadata": {},
   "outputs": [],
   "source": []
  }
 ],
 "metadata": {
  "kernelspec": {
   "display_name": "Python 3",
   "language": "python",
   "name": "python3"
  },
  "language_info": {
   "codemirror_mode": {
    "name": "ipython",
    "version": 3
   },
   "file_extension": ".py",
   "mimetype": "text/x-python",
   "name": "python",
   "nbconvert_exporter": "python",
   "pygments_lexer": "ipython3",
   "version": "3.8.5"
  },
  "varInspector": {
   "cols": {
    "lenName": 16,
    "lenType": 16,
    "lenVar": 40
   },
   "kernels_config": {
    "python": {
     "delete_cmd_postfix": "",
     "delete_cmd_prefix": "del ",
     "library": "var_list.py",
     "varRefreshCmd": "print(var_dic_list())"
    },
    "r": {
     "delete_cmd_postfix": ") ",
     "delete_cmd_prefix": "rm(",
     "library": "var_list.r",
     "varRefreshCmd": "cat(var_dic_list()) "
    }
   },
   "types_to_exclude": [
    "module",
    "function",
    "builtin_function_or_method",
    "instance",
    "_Feature"
   ],
   "window_display": false
  }
 },
 "nbformat": 4,
 "nbformat_minor": 2
}
