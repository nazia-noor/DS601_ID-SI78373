{
 "cells": [
  {
   "cell_type": "markdown",
   "metadata": {},
   "source": [
    "## Homework Week6"
   ]
  },
  {
   "cell_type": "markdown",
   "metadata": {},
   "source": [
    "1. There is a bug in this program. Find, explain & fix.\n",
    "1. Fill the docstrings (python documentation) \n",
    "    * What the function does\n",
    "    * what it expects\n",
    "    * what it returns\n",
    "\n",
    "1. Add a new method to `clear` the ShoppingList class"
   ]
  },
  {
   "cell_type": "markdown",
   "metadata": {},
   "source": [
    "1. In this program, there is a class called \"ShoppingList\" and a global list called \"items\". All the member functions use this global list \"items\". But this \"items\" is not a class member variable as it is outside of the class. As a result, each time an object of ShoppingList() is being created, functions associated with the object are called and they use the global list \"items\". To fix it,\"items\" list should be initialized inside the class's __init__(self) function, and every time it should be used as \"self.items\" everywhere inside the class. "
   ]
  },
  {
   "cell_type": "code",
   "execution_count": 1,
   "metadata": {},
   "outputs": [],
   "source": [
    "# items = []  this items is no more needed \n",
    "\n",
    "class ShoppingList:\n",
    "    \n",
    "    def __init__(self):\n",
    "        \"\"\"\n",
    "        initialize the class member variable items\n",
    "        \"\"\"\n",
    "        self.items = []\n",
    "    \n",
    "    def add_item(self, item):\n",
    "        \"\"\"\n",
    "        add a new element to the member variable items. \n",
    "        \n",
    "        Parameters:\n",
    "        ----------\n",
    "        item: str\n",
    "        \n",
    "        Returns\n",
    "        -------\n",
    "        length of items \n",
    "        \"\"\"\n",
    "        self.items.append(item)\n",
    "        \n",
    "        return len(self.items)\n",
    "\n",
    "    def remove_item(self, item):\n",
    "        \"\"\"\n",
    "        remove the first matching element from the items\n",
    "        \n",
    "        Parameters:\n",
    "        ----------\n",
    "        item: str \n",
    "        \n",
    "        Returns\n",
    "        -------\n",
    "        length of items after removing an element\n",
    "        \n",
    "        \"\"\"\n",
    "        self.items.remove(item)\n",
    "        \n",
    "        return len(self.items)\n",
    "    \n",
    "    def get_items(self):\n",
    "        \"\"\"\n",
    "        return all elements from the items\n",
    "        \n",
    "        Parameters:\n",
    "        -----------\n",
    "        no argument \n",
    "        \n",
    "        Returns\n",
    "        -------\n",
    "        all elements from the items  \n",
    "        \n",
    "        \"\"\"\n",
    "        return self.items\n",
    "    \n",
    "    def clear(self):\n",
    "        \"\"\"\n",
    "        clear the items\n",
    "        \n",
    "        Parameters:\n",
    "        ----------\n",
    "        no argument \n",
    "        \n",
    "        Returns\n",
    "        -------\n",
    "        length of items after removing all elements\n",
    "        \n",
    "        \"\"\"\n",
    "        self.items.clear()\n",
    "        return len(self.items)"
   ]
  },
  {
   "cell_type": "code",
   "execution_count": 2,
   "metadata": {},
   "outputs": [],
   "source": [
    "husband = ShoppingList()\n",
    "wife = ShoppingList()"
   ]
  },
  {
   "cell_type": "code",
   "execution_count": 3,
   "metadata": {},
   "outputs": [
    {
     "data": {
      "text/plain": [
       "1"
      ]
     },
     "execution_count": 3,
     "metadata": {},
     "output_type": "execute_result"
    }
   ],
   "source": [
    "husband.add_item('ps5')\n",
    "wife.add_item('dress')"
   ]
  },
  {
   "cell_type": "code",
   "execution_count": 4,
   "metadata": {},
   "outputs": [
    {
     "data": {
      "text/plain": [
       "['ps5']"
      ]
     },
     "execution_count": 4,
     "metadata": {},
     "output_type": "execute_result"
    }
   ],
   "source": [
    "husband.get_items()"
   ]
  },
  {
   "cell_type": "code",
   "execution_count": 5,
   "metadata": {},
   "outputs": [
    {
     "data": {
      "text/plain": [
       "['dress']"
      ]
     },
     "execution_count": 5,
     "metadata": {},
     "output_type": "execute_result"
    }
   ],
   "source": [
    "wife.get_items()"
   ]
  },
  {
   "cell_type": "code",
   "execution_count": 6,
   "metadata": {},
   "outputs": [
    {
     "data": {
      "text/plain": [
       "0"
      ]
     },
     "execution_count": 6,
     "metadata": {},
     "output_type": "execute_result"
    }
   ],
   "source": [
    "husband.clear()"
   ]
  },
  {
   "cell_type": "code",
   "execution_count": null,
   "metadata": {},
   "outputs": [],
   "source": []
  }
 ],
 "metadata": {
  "kernelspec": {
   "display_name": "Python 3",
   "language": "python",
   "name": "python3"
  },
  "language_info": {
   "codemirror_mode": {
    "name": "ipython",
    "version": 3
   },
   "file_extension": ".py",
   "mimetype": "text/x-python",
   "name": "python",
   "nbconvert_exporter": "python",
   "pygments_lexer": "ipython3",
   "version": "3.8.5"
  },
  "varInspector": {
   "cols": {
    "lenName": 16,
    "lenType": 16,
    "lenVar": 40
   },
   "kernels_config": {
    "python": {
     "delete_cmd_postfix": "",
     "delete_cmd_prefix": "del ",
     "library": "var_list.py",
     "varRefreshCmd": "print(var_dic_list())"
    },
    "r": {
     "delete_cmd_postfix": ") ",
     "delete_cmd_prefix": "rm(",
     "library": "var_list.r",
     "varRefreshCmd": "cat(var_dic_list()) "
    }
   },
   "types_to_exclude": [
    "module",
    "function",
    "builtin_function_or_method",
    "instance",
    "_Feature"
   ],
   "window_display": false
  }
 },
 "nbformat": 4,
 "nbformat_minor": 2
}
