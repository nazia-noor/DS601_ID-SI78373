{
 "cells": [
  {
   "cell_type": "markdown",
   "metadata": {},
   "source": [
    "## Homework Week9 Part1\n"
   ]
  },
  {
   "cell_type": "code",
   "execution_count": 1,
   "metadata": {},
   "outputs": [],
   "source": [
    "import doctest\n",
    "import datetime\n",
    "\n",
    "# https://kolesnikov.ga/Testing_and_Debugging_Jupyter_Notebooks/"
   ]
  },
  {
   "cell_type": "code",
   "execution_count": 2,
   "metadata": {},
   "outputs": [],
   "source": [
    "def convert_datetime_to_dayofweek(datetime_string):\n",
    "    \"\"\"\n",
    "    This function takes date in the format MON DAY YEAR  HH:MM(PM/AM)\n",
    "    and returns the day of the week\n",
    "    Assume input string is UTC\n",
    "    \n",
    "    >>> convert_datetime_to_dayofweek('Jun 1 2005  1:33PM')\n",
    "    'Wednesday'\n",
    "    >>> convert_datetime_to_dayofweek('Oct 25 2012  2:17AM')\n",
    "    'Thursday'\n",
    "    \"\"\"\n",
    "    \n",
    "    return datetime.datetime.strptime(datetime_string, '%b %d %Y %I:%M%p').strftime('%A')"
   ]
  },
  {
   "cell_type": "code",
   "execution_count": 3,
   "metadata": {},
   "outputs": [
    {
     "data": {
      "text/plain": [
       "TestResults(failed=0, attempted=2)"
      ]
     },
     "execution_count": 3,
     "metadata": {},
     "output_type": "execute_result"
    }
   ],
   "source": [
    "doctest.testmod()\n"
   ]
  },
  {
   "cell_type": "code",
   "execution_count": null,
   "metadata": {},
   "outputs": [],
   "source": []
  }
 ],
 "metadata": {
  "kernelspec": {
   "display_name": "Python 3",
   "language": "python",
   "name": "python3"
  },
  "language_info": {
   "codemirror_mode": {
    "name": "ipython",
    "version": 3
   },
   "file_extension": ".py",
   "mimetype": "text/x-python",
   "name": "python",
   "nbconvert_exporter": "python",
   "pygments_lexer": "ipython3",
   "version": "3.8.5"
  }
 },
 "nbformat": 4,
 "nbformat_minor": 4
}
